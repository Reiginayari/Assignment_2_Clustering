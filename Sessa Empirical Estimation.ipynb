{
 "cells": [
  {
   "cell_type": "code",
   "execution_count": 17,
   "metadata": {},
   "outputs": [
    {
     "name": "stdout",
     "output_type": "stream",
     "text": [
      "First 5 records:    encounter_id  patient_nbr             race  gender      age weight  \\\n",
      "0       2278392      8222157        Caucasian  Female   [0-10)      ?   \n",
      "1        149190     55629189        Caucasian  Female  [10-20)      ?   \n",
      "2         64410     86047875  AfricanAmerican  Female  [20-30)      ?   \n",
      "3        500364     82442376        Caucasian    Male  [30-40)      ?   \n",
      "4         16680     42519267        Caucasian    Male  [40-50)      ?   \n",
      "\n",
      "   admission_type_id  discharge_disposition_id  admission_source_id  \\\n",
      "0                  6                        25                    1   \n",
      "1                  1                         1                    7   \n",
      "2                  1                         1                    7   \n",
      "3                  1                         1                    7   \n",
      "4                  1                         1                    7   \n",
      "\n",
      "   time_in_hospital  ... citoglipton insulin  glyburide-metformin  \\\n",
      "0                 1  ...          No      No                   No   \n",
      "1                 3  ...          No      Up                   No   \n",
      "2                 2  ...          No      No                   No   \n",
      "3                 2  ...          No      Up                   No   \n",
      "4                 1  ...          No  Steady                   No   \n",
      "\n",
      "   glipizide-metformin  glimepiride-pioglitazone  metformin-rosiglitazone  \\\n",
      "0                   No                        No                       No   \n",
      "1                   No                        No                       No   \n",
      "2                   No                        No                       No   \n",
      "3                   No                        No                       No   \n",
      "4                   No                        No                       No   \n",
      "\n",
      "   metformin-pioglitazone  change diabetesMed readmitted  \n",
      "0                      No      No          No         NO  \n",
      "1                      No      Ch         Yes        >30  \n",
      "2                      No      No         Yes         NO  \n",
      "3                      No      Ch         Yes         NO  \n",
      "4                      No      Ch         Yes         NO  \n",
      "\n",
      "[5 rows x 50 columns]\n"
     ]
    }
   ],
   "source": [
    "import pandas as pd\n",
    "\n",
    "file_path = r\"C:/Users/reigi/OneDrive/Desktop/School/CS 3203N/Assignment_2_Clustering/diabetes.csv\"\n",
    "\n",
    "df = pd.read_csv(file_path)\n",
    "\n",
    "print(\"First 5 records:\", df.head())"
   ]
  },
  {
   "cell_type": "code",
   "execution_count": 16,
   "metadata": {},
   "outputs": [
    {
     "name": "stdout",
     "output_type": "stream",
     "text": [
      "Simulated Data Shape: (717120, 3)\n"
     ]
    }
   ],
   "source": [
    "import numpy as np\n",
    "import pandas as pd\n",
    "\n",
    "def simulate_adherence_data(n_individuals=1000, days=720):\n",
    "    \"\"\"\n",
    "    Simulates adherence data for six predefined groups.\n",
    "    \n",
    "    Parameters:\n",
    "        n_individuals (int): Number of individuals to simulate.\n",
    "        days (int): Observation period in days (default: 720 days = 2 years).\n",
    "    \n",
    "    Returns:\n",
    "        pd.DataFrame: Simulated adherence data.\n",
    "    \"\"\"\n",
    "    def simulate_pattern(n, days, pattern):\n",
    "        adherence = np.zeros((n, days))\n",
    "        for i in range(n):\n",
    "            if pattern == \"high\":\n",
    "                adherence[i] = np.clip(np.random.normal(0.95, 0.05, days), 0, 1)\n",
    "            elif pattern == \"erratic\":\n",
    "                adherence[i] = np.clip(np.random.uniform(0.5, 0.9, days), 0, 1)\n",
    "            elif pattern == \"gradual_decline\":\n",
    "                adherence[i] = np.clip(np.linspace(1, 0.1, days) + np.random.normal(0, 0.1, days), 0, 1)\n",
    "            elif pattern == \"intermittent\":\n",
    "                adherence[i] = np.clip((np.sin(np.linspace(0, 4 * np.pi, days)) + 1) / 2 + np.random.normal(0, 0.1, days), 0, 1)\n",
    "            elif pattern == \"partial_drop_off\":\n",
    "                adherence[i] = np.clip(np.ones(days) * 0.9 - np.heaviside(np.arange(days) - 365, 1) * 0.5 + np.random.normal(0, 0.1, days), 0, 1)\n",
    "            elif pattern == \"non_persistence\":\n",
    "                adherence[i] = np.clip(np.heaviside(90 - np.arange(days), 1) + np.random.normal(0, 0.1, days), 0, 1)\n",
    "        return adherence\n",
    "\n",
    "    patterns = [\"high\", \"erratic\", \"gradual_decline\", \"intermittent\", \"partial_drop_off\", \"non_persistence\"]\n",
    "    group_sizes = [n_individuals // 6] * 6\n",
    "    labels = np.repeat(range(len(patterns)), group_sizes)\n",
    "\n",
    "    data = np.vstack([simulate_pattern(size, days, p) for size, p in zip(group_sizes, patterns)])\n",
    "    df = pd.DataFrame(data.T, columns=[f\"Patient_{i}\" for i in range(data.shape[0])])\n",
    "    df[\"Day\"] = range(days)\n",
    "    df = df.melt(id_vars=\"Day\", var_name=\"Patient\", value_name=\"Adherence\")\n",
    "    return df, labels\n",
    "\n",
    "simulated_data, true_labels = simulate_adherence_data()\n",
    "print(\"Simulated Data Shape:\", simulated_data.shape)"
   ]
  },
  {
   "cell_type": "code",
   "execution_count": 18,
   "metadata": {},
   "outputs": [
    {
     "name": "stdout",
     "output_type": "stream",
     "text": [
      "Windowed Data Shape: (47808, 3)\n"
     ]
    }
   ],
   "source": [
    "def sliding_window(data, window_size=30, overlap=15):\n",
    "    \"\"\"\n",
    "    Applies a sliding window to the data.\n",
    "    \n",
    "    Parameters:\n",
    "        data (pd.DataFrame): Simulated adherence data.\n",
    "        window_size (int): Size of the sliding window in days.\n",
    "        overlap (int): Overlap between consecutive windows in days.\n",
    "    \n",
    "    Returns:\n",
    "        pd.DataFrame: Data with sliding windows applied.\n",
    "    \"\"\"\n",
    "    step = window_size - overlap\n",
    "    windows = []\n",
    "    for start in range(0, data[\"Day\"].max(), step):\n",
    "        end = start + window_size\n",
    "        window_data = data[(data[\"Day\"] >= start) & (data[\"Day\"] < end)]\n",
    "        if not window_data.empty:\n",
    "            window_data = window_data.groupby(\"Patient\")[\"Adherence\"].mean().reset_index()\n",
    "            window_data[\"Window\"] = f\"{start}-{end}\"\n",
    "            windows.append(window_data)\n",
    "    return pd.concat(windows, ignore_index=True)\n",
    "\n",
    "# Apply sliding windows\n",
    "windowed_data = sliding_window(simulated_data, window_size=30, overlap=15)\n",
    "print(\"Windowed Data Shape:\", windowed_data.shape)"
   ]
  },
  {
   "cell_type": "code",
   "execution_count": 19,
   "metadata": {},
   "outputs": [
    {
     "name": "stdout",
     "output_type": "stream",
     "text": [
      "Adjusted Rand Index (K-Means): 0.48081387250352264\n"
     ]
    }
   ],
   "source": [
    "from sklearn.cluster import KMeans\n",
    "from sklearn.metrics import adjusted_rand_score\n",
    "\n",
    "def kmeans_clustering(data, n_clusters=6):\n",
    "    \"\"\"\n",
    "    Applies K-Means clustering to the data.\n",
    "    \n",
    "    Parameters:\n",
    "        data (pd.DataFrame): Windowed adherence data.\n",
    "        n_clusters (int): Number of clusters.\n",
    "    \n",
    "    Returns:\n",
    "        np.ndarray: Cluster assignments.\n",
    "    \"\"\"\n",
    "    X = data.pivot(index=\"Patient\", columns=\"Window\", values=\"Adherence\").fillna(0).values\n",
    "    kmeans = KMeans(n_clusters=n_clusters, random_state=42)\n",
    "    clusters = kmeans.fit_predict(X)\n",
    "    return clusters\n",
    "\n",
    "# Perform K-Means clustering\n",
    "kmeans_clusters = kmeans_clustering(windowed_data)\n",
    "ari_kmeans = adjusted_rand_score(true_labels, kmeans_clusters)\n",
    "print(f\"Adjusted Rand Index (K-Means): {ari_kmeans}\")"
   ]
  },
  {
   "cell_type": "code",
   "execution_count": 20,
   "metadata": {},
   "outputs": [
    {
     "name": "stdout",
     "output_type": "stream",
     "text": [
      "Adjusted Rand Index (DBSCAN): 0.48081387250352264\n"
     ]
    }
   ],
   "source": [
    "from sklearn.cluster import DBSCAN\n",
    "\n",
    "def dbscan_clustering(data, eps=0.5, min_samples=5):\n",
    "    \"\"\"\n",
    "    Applies DBSCAN clustering to the data.\n",
    "    \n",
    "    Parameters:\n",
    "        data (pd.DataFrame): Windowed adherence data.\n",
    "        eps (float): Maximum distance for two points to be considered neighbors.\n",
    "        min_samples (int): Minimum number of samples in a neighborhood.\n",
    "    \n",
    "    Returns:\n",
    "        np.ndarray: Cluster assignments.\n",
    "    \"\"\"\n",
    "    X = data.pivot(index=\"Patient\", columns=\"Window\", values=\"Adherence\").fillna(0).values\n",
    "    dbscan = DBSCAN(eps=eps, min_samples=min_samples)\n",
    "    clusters = dbscan.fit_predict(X)\n",
    "    return clusters\n",
    "\n",
    "# Perform DBSCAN clustering\n",
    "dbscan_clusters = dbscan_clustering(windowed_data)\n",
    "valid_indices = dbscan_clusters != -1  # Exclude noise points\n",
    "ari_dbscan = adjusted_rand_score(true_labels[valid_indices], dbscan_clusters[valid_indices])\n",
    "print(f\"Adjusted Rand Index (DBSCAN): {ari_dbscan}\")"
   ]
  },
  {
   "cell_type": "code",
   "execution_count": 25,
   "metadata": {},
   "outputs": [
    {
     "name": "stdout",
     "output_type": "stream",
     "text": [
      "Comparison of Clustering Algorithms:\n",
      "K-Means ARI: 0.48081387250352264\n",
      "DBSCAN ARI: 0.48081387250352264\n"
     ]
    }
   ],
   "source": [
    "def compare_results(kmeans_ari, dbscan_ari):\n",
    "    \"\"\"\n",
    "    Compares the results of K-Means and DBSCAN clustering.\n",
    "    \n",
    "    Parameters:\n",
    "        kmeans_ari (float): ARI for K-Means clustering.\n",
    "        dbscan_ari (float): ARI for DBSCAN clustering.\n",
    "    \"\"\"\n",
    "    print(\"Comparison of Clustering Algorithms:\")\n",
    "    print(f\"K-Means ARI: {kmeans_ari}\")\n",
    "    print(f\"DBSCAN ARI: {dbscan_ari}\")\n",
    "\n",
    "# Compare results\n",
    "compare_results(ari_kmeans, ari_dbscan)"
   ]
  },
  {
   "cell_type": "code",
   "execution_count": null,
   "metadata": {},
   "outputs": [
    {
     "name": "stdout",
     "output_type": "stream",
     "text": [
      "Comparison of Clustering Algorithms:\n",
      "K-Means ARI: 0.48081387250352264\n",
      "DBSCAN ARI: 0.48081387250352264\n"
     ]
    }
   ],
   "source": [
    "def run_analysis():\n",
    "    # Step 1: Simulate data\n",
    "    simulated_data, true_labels = simulate_adherence_data()\n",
    "    \n",
    "    # Step 2: Apply sliding windows\n",
    "    windowed_data = sliding_window(simulated_data, window_size=30, overlap=15)\n",
    "    \n",
    "    # Step 3: K-Means clustering\n",
    "    kmeans_clusters = kmeans_clustering(windowed_data)\n",
    "    ari_kmeans = adjusted_rand_score(true_labels, kmeans_clusters)\n",
    "    \n",
    "    # Step 4: DBSCAN clustering\n",
    "    dbscan_clusters = dbscan_clustering(windowed_data)\n",
    "    valid_indices = dbscan_clusters != -1\n",
    "    ari_dbscan = adjusted_rand_score(true_labels[valid_indices], dbscan_clusters[valid_indices])\n",
    "    \n",
    "    # Step 5: Compare results\n",
    "    compare_results(ari_kmeans, ari_dbscan)\n",
    "\n",
    "# Run analysis\n",
    "run_analysis()"
   ]
  }
 ],
 "metadata": {
  "kernelspec": {
   "display_name": "Python 3",
   "language": "python",
   "name": "python3"
  },
  "language_info": {
   "codemirror_mode": {
    "name": "ipython",
    "version": 3
   },
   "file_extension": ".py",
   "mimetype": "text/x-python",
   "name": "python",
   "nbconvert_exporter": "python",
   "pygments_lexer": "ipython3",
   "version": "3.9.13"
  }
 },
 "nbformat": 4,
 "nbformat_minor": 2
}
